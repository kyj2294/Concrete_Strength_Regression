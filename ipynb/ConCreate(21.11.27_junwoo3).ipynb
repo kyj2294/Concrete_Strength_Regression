{
 "cells": [
  {
   "cell_type": "markdown",
   "id": "e69f1edd",
   "metadata": {},
   "source": [
    "## 콘크리트 압축강도 예측 : 데이터 분석, 시각화 및 모델링"
   ]
  },
  {
   "cell_type": "code",
   "execution_count": 1,
   "id": "4d7db4c5",
   "metadata": {},
   "outputs": [
    {
     "data": {
      "application/javascript": [
       "IPython.notebook.set_autosave_interval(0)"
      ]
     },
     "metadata": {},
     "output_type": "display_data"
    },
    {
     "name": "stdout",
     "output_type": "stream",
     "text": [
      "Autosave disabled\n"
     ]
    }
   ],
   "source": [
    "%autosave 0"
   ]
  },
  {
   "cell_type": "code",
   "execution_count": 2,
   "id": "e9bbc8ae",
   "metadata": {},
   "outputs": [],
   "source": [
    "# 라이브러리 호출\n",
    "import numpy as np\n",
    "import pandas as pd\n",
    "import seaborn as sns\n",
    "import matplotlib.pyplot as plt\n",
    "import matplotlib as mpl\n",
    "import missingno as msno\n",
    "\n",
    "import warnings\n",
    "warnings.filterwarnings('ignore')\n",
    "\n",
    "from sklearn.decomposition import PCA\n",
    "from pca import pca\n",
    "\n",
    "from sklearn.cluster import KMeans\n",
    "from sklearn.preprocessing import StandardScaler\n",
    "from sklearn.model_selection import train_test_split, GridSearchCV\n",
    "from sklearn.linear_model import LinearRegression,LogisticRegression\n",
    "from sklearn.tree import DecisionTreeRegressor\n",
    "from sklearn.ensemble import RandomForestRegressor"
   ]
  },
  {
   "cell_type": "code",
   "execution_count": 3,
   "id": "9834cdd8",
   "metadata": {},
   "outputs": [],
   "source": [
    "df = pd.read_csv('data/Concrete_Data.csv')"
   ]
  },
  {
   "cell_type": "code",
   "execution_count": 4,
   "id": "2042440a",
   "metadata": {},
   "outputs": [
    {
     "data": {
      "text/html": [
       "<div>\n",
       "<style scoped>\n",
       "    .dataframe tbody tr th:only-of-type {\n",
       "        vertical-align: middle;\n",
       "    }\n",
       "\n",
       "    .dataframe tbody tr th {\n",
       "        vertical-align: top;\n",
       "    }\n",
       "\n",
       "    .dataframe thead th {\n",
       "        text-align: right;\n",
       "    }\n",
       "</style>\n",
       "<table border=\"1\" class=\"dataframe\">\n",
       "  <thead>\n",
       "    <tr style=\"text-align: right;\">\n",
       "      <th></th>\n",
       "      <th>Cement (component 1)(kg in a m^3 mixture)</th>\n",
       "      <th>Blast Furnace Slag (component 2)(kg in a m^3 mixture)</th>\n",
       "      <th>Fly Ash (component 3)(kg in a m^3 mixture)</th>\n",
       "      <th>Water  (component 4)(kg in a m^3 mixture)</th>\n",
       "      <th>Superplasticizer (component 5)(kg in a m^3 mixture)</th>\n",
       "      <th>Coarse Aggregate  (component 6)(kg in a m^3 mixture)</th>\n",
       "      <th>Fine Aggregate (component 7)(kg in a m^3 mixture)</th>\n",
       "      <th>Age (day)</th>\n",
       "      <th>Concrete compressive strength(MPa, megapascals)</th>\n",
       "    </tr>\n",
       "  </thead>\n",
       "  <tbody>\n",
       "    <tr>\n",
       "      <th>0</th>\n",
       "      <td>540.0</td>\n",
       "      <td>0.0</td>\n",
       "      <td>0.0</td>\n",
       "      <td>162.0</td>\n",
       "      <td>2.5</td>\n",
       "      <td>1040.0</td>\n",
       "      <td>676.0</td>\n",
       "      <td>28</td>\n",
       "      <td>79.986111</td>\n",
       "    </tr>\n",
       "    <tr>\n",
       "      <th>1</th>\n",
       "      <td>540.0</td>\n",
       "      <td>0.0</td>\n",
       "      <td>0.0</td>\n",
       "      <td>162.0</td>\n",
       "      <td>2.5</td>\n",
       "      <td>1055.0</td>\n",
       "      <td>676.0</td>\n",
       "      <td>28</td>\n",
       "      <td>61.887366</td>\n",
       "    </tr>\n",
       "    <tr>\n",
       "      <th>2</th>\n",
       "      <td>332.5</td>\n",
       "      <td>142.5</td>\n",
       "      <td>0.0</td>\n",
       "      <td>228.0</td>\n",
       "      <td>0.0</td>\n",
       "      <td>932.0</td>\n",
       "      <td>594.0</td>\n",
       "      <td>270</td>\n",
       "      <td>40.269535</td>\n",
       "    </tr>\n",
       "    <tr>\n",
       "      <th>3</th>\n",
       "      <td>332.5</td>\n",
       "      <td>142.5</td>\n",
       "      <td>0.0</td>\n",
       "      <td>228.0</td>\n",
       "      <td>0.0</td>\n",
       "      <td>932.0</td>\n",
       "      <td>594.0</td>\n",
       "      <td>365</td>\n",
       "      <td>41.052780</td>\n",
       "    </tr>\n",
       "    <tr>\n",
       "      <th>4</th>\n",
       "      <td>198.6</td>\n",
       "      <td>132.4</td>\n",
       "      <td>0.0</td>\n",
       "      <td>192.0</td>\n",
       "      <td>0.0</td>\n",
       "      <td>978.4</td>\n",
       "      <td>825.5</td>\n",
       "      <td>360</td>\n",
       "      <td>44.296075</td>\n",
       "    </tr>\n",
       "  </tbody>\n",
       "</table>\n",
       "</div>"
      ],
      "text/plain": [
       "   Cement (component 1)(kg in a m^3 mixture)  \\\n",
       "0                                      540.0   \n",
       "1                                      540.0   \n",
       "2                                      332.5   \n",
       "3                                      332.5   \n",
       "4                                      198.6   \n",
       "\n",
       "   Blast Furnace Slag (component 2)(kg in a m^3 mixture)  \\\n",
       "0                                                0.0       \n",
       "1                                                0.0       \n",
       "2                                              142.5       \n",
       "3                                              142.5       \n",
       "4                                              132.4       \n",
       "\n",
       "   Fly Ash (component 3)(kg in a m^3 mixture)  \\\n",
       "0                                         0.0   \n",
       "1                                         0.0   \n",
       "2                                         0.0   \n",
       "3                                         0.0   \n",
       "4                                         0.0   \n",
       "\n",
       "   Water  (component 4)(kg in a m^3 mixture)  \\\n",
       "0                                      162.0   \n",
       "1                                      162.0   \n",
       "2                                      228.0   \n",
       "3                                      228.0   \n",
       "4                                      192.0   \n",
       "\n",
       "   Superplasticizer (component 5)(kg in a m^3 mixture)  \\\n",
       "0                                                2.5     \n",
       "1                                                2.5     \n",
       "2                                                0.0     \n",
       "3                                                0.0     \n",
       "4                                                0.0     \n",
       "\n",
       "   Coarse Aggregate  (component 6)(kg in a m^3 mixture)  \\\n",
       "0                                             1040.0      \n",
       "1                                             1055.0      \n",
       "2                                              932.0      \n",
       "3                                              932.0      \n",
       "4                                              978.4      \n",
       "\n",
       "   Fine Aggregate (component 7)(kg in a m^3 mixture)  Age (day)  \\\n",
       "0                                              676.0         28   \n",
       "1                                              676.0         28   \n",
       "2                                              594.0        270   \n",
       "3                                              594.0        365   \n",
       "4                                              825.5        360   \n",
       "\n",
       "   Concrete compressive strength(MPa, megapascals)   \n",
       "0                                         79.986111  \n",
       "1                                         61.887366  \n",
       "2                                         40.269535  \n",
       "3                                         41.052780  \n",
       "4                                         44.296075  "
      ]
     },
     "execution_count": 4,
     "metadata": {},
     "output_type": "execute_result"
    }
   ],
   "source": [
    "df.head()"
   ]
  },
  {
   "cell_type": "code",
   "execution_count": 5,
   "id": "13141ee1",
   "metadata": {},
   "outputs": [
    {
     "data": {
      "text/plain": [
       "Cement (component 1)(kg in a m^3 mixture)                0\n",
       "Blast Furnace Slag (component 2)(kg in a m^3 mixture)    0\n",
       "Fly Ash (component 3)(kg in a m^3 mixture)               0\n",
       "Water  (component 4)(kg in a m^3 mixture)                0\n",
       "Superplasticizer (component 5)(kg in a m^3 mixture)      0\n",
       "Coarse Aggregate  (component 6)(kg in a m^3 mixture)     0\n",
       "Fine Aggregate (component 7)(kg in a m^3 mixture)        0\n",
       "Age (day)                                                0\n",
       "Concrete compressive strength(MPa, megapascals)          0\n",
       "dtype: int64"
      ]
     },
     "execution_count": 5,
     "metadata": {},
     "output_type": "execute_result"
    }
   ],
   "source": [
    "df.isna().sum() # 결측값 확인"
   ]
  },
  {
   "cell_type": "code",
   "execution_count": 6,
   "id": "d956abd7",
   "metadata": {},
   "outputs": [],
   "source": [
    "# 컬럼명 변경\n",
    "features = ['cement', 'blast furnace slag', 'fly ash', 'water', 'superlasticizer', 'coarse aggregate', 'fine aggregate', 'age', 'str']\n",
    "df.columns = features"
   ]
  },
  {
   "cell_type": "code",
   "execution_count": 7,
   "id": "265f4fed",
   "metadata": {},
   "outputs": [
    {
     "data": {
      "text/html": [
       "<div>\n",
       "<style scoped>\n",
       "    .dataframe tbody tr th:only-of-type {\n",
       "        vertical-align: middle;\n",
       "    }\n",
       "\n",
       "    .dataframe tbody tr th {\n",
       "        vertical-align: top;\n",
       "    }\n",
       "\n",
       "    .dataframe thead th {\n",
       "        text-align: right;\n",
       "    }\n",
       "</style>\n",
       "<table border=\"1\" class=\"dataframe\">\n",
       "  <thead>\n",
       "    <tr style=\"text-align: right;\">\n",
       "      <th></th>\n",
       "      <th>cement</th>\n",
       "      <th>blast furnace slag</th>\n",
       "      <th>fly ash</th>\n",
       "      <th>water</th>\n",
       "      <th>superlasticizer</th>\n",
       "      <th>coarse aggregate</th>\n",
       "      <th>fine aggregate</th>\n",
       "      <th>age</th>\n",
       "      <th>str</th>\n",
       "    </tr>\n",
       "  </thead>\n",
       "  <tbody>\n",
       "    <tr>\n",
       "      <th>0</th>\n",
       "      <td>540.0</td>\n",
       "      <td>0.0</td>\n",
       "      <td>0.0</td>\n",
       "      <td>162.0</td>\n",
       "      <td>2.5</td>\n",
       "      <td>1040.0</td>\n",
       "      <td>676.0</td>\n",
       "      <td>28</td>\n",
       "      <td>79.986111</td>\n",
       "    </tr>\n",
       "    <tr>\n",
       "      <th>1</th>\n",
       "      <td>540.0</td>\n",
       "      <td>0.0</td>\n",
       "      <td>0.0</td>\n",
       "      <td>162.0</td>\n",
       "      <td>2.5</td>\n",
       "      <td>1055.0</td>\n",
       "      <td>676.0</td>\n",
       "      <td>28</td>\n",
       "      <td>61.887366</td>\n",
       "    </tr>\n",
       "    <tr>\n",
       "      <th>2</th>\n",
       "      <td>332.5</td>\n",
       "      <td>142.5</td>\n",
       "      <td>0.0</td>\n",
       "      <td>228.0</td>\n",
       "      <td>0.0</td>\n",
       "      <td>932.0</td>\n",
       "      <td>594.0</td>\n",
       "      <td>270</td>\n",
       "      <td>40.269535</td>\n",
       "    </tr>\n",
       "    <tr>\n",
       "      <th>3</th>\n",
       "      <td>332.5</td>\n",
       "      <td>142.5</td>\n",
       "      <td>0.0</td>\n",
       "      <td>228.0</td>\n",
       "      <td>0.0</td>\n",
       "      <td>932.0</td>\n",
       "      <td>594.0</td>\n",
       "      <td>365</td>\n",
       "      <td>41.052780</td>\n",
       "    </tr>\n",
       "    <tr>\n",
       "      <th>4</th>\n",
       "      <td>198.6</td>\n",
       "      <td>132.4</td>\n",
       "      <td>0.0</td>\n",
       "      <td>192.0</td>\n",
       "      <td>0.0</td>\n",
       "      <td>978.4</td>\n",
       "      <td>825.5</td>\n",
       "      <td>360</td>\n",
       "      <td>44.296075</td>\n",
       "    </tr>\n",
       "  </tbody>\n",
       "</table>\n",
       "</div>"
      ],
      "text/plain": [
       "   cement  blast furnace slag  fly ash  water  superlasticizer  \\\n",
       "0   540.0                 0.0      0.0  162.0              2.5   \n",
       "1   540.0                 0.0      0.0  162.0              2.5   \n",
       "2   332.5               142.5      0.0  228.0              0.0   \n",
       "3   332.5               142.5      0.0  228.0              0.0   \n",
       "4   198.6               132.4      0.0  192.0              0.0   \n",
       "\n",
       "   coarse aggregate  fine aggregate  age        str  \n",
       "0            1040.0           676.0   28  79.986111  \n",
       "1            1055.0           676.0   28  61.887366  \n",
       "2             932.0           594.0  270  40.269535  \n",
       "3             932.0           594.0  365  41.052780  \n",
       "4             978.4           825.5  360  44.296075  "
      ]
     },
     "execution_count": 7,
     "metadata": {},
     "output_type": "execute_result"
    }
   ],
   "source": [
    "df.head()"
   ]
  },
  {
   "cell_type": "markdown",
   "id": "b800847d",
   "metadata": {},
   "source": [
    "## 새로운 컬럼 추가 및 삭제 df2로 정의"
   ]
  },
  {
   "cell_type": "code",
   "execution_count": 8,
   "id": "077d9d14",
   "metadata": {},
   "outputs": [],
   "source": [
    "Mixed_fire = df.iloc[:,1] + df.iloc[:,2] + df.iloc[:,4]\n",
    "aggregate = df.iloc[:,5] + df.iloc[:,6]"
   ]
  },
  {
   "cell_type": "code",
   "execution_count": 9,
   "id": "820b6031",
   "metadata": {},
   "outputs": [],
   "source": [
    "df2 = df.drop('fly ash' , axis = 1)\n",
    "df2 = df2.drop('blast furnace slag', axis = 1)\n",
    "df2 = df2.drop('superlasticizer', axis = 1)\n",
    "df2 = df2.drop('coarse aggregate', axis = 1)\n",
    "df2 = df2.drop('fine aggregate', axis = 1)\n",
    "df2 = df2.drop('str', axis =1)"
   ]
  },
  {
   "cell_type": "code",
   "execution_count": 10,
   "id": "499906f4",
   "metadata": {},
   "outputs": [],
   "source": [
    "df2['Mixed_fire'] = Mixed_fire\n",
    "df2['Aggregate '] = aggregate/2\n",
    "df2['str'] = df.iloc[:,8]"
   ]
  },
  {
   "cell_type": "code",
   "execution_count": 11,
   "id": "dc2ea637",
   "metadata": {},
   "outputs": [
    {
     "data": {
      "text/html": [
       "<div>\n",
       "<style scoped>\n",
       "    .dataframe tbody tr th:only-of-type {\n",
       "        vertical-align: middle;\n",
       "    }\n",
       "\n",
       "    .dataframe tbody tr th {\n",
       "        vertical-align: top;\n",
       "    }\n",
       "\n",
       "    .dataframe thead th {\n",
       "        text-align: right;\n",
       "    }\n",
       "</style>\n",
       "<table border=\"1\" class=\"dataframe\">\n",
       "  <thead>\n",
       "    <tr style=\"text-align: right;\">\n",
       "      <th></th>\n",
       "      <th>cement</th>\n",
       "      <th>water</th>\n",
       "      <th>age</th>\n",
       "      <th>Mixed_fire</th>\n",
       "      <th>Aggregate</th>\n",
       "      <th>str</th>\n",
       "    </tr>\n",
       "  </thead>\n",
       "  <tbody>\n",
       "    <tr>\n",
       "      <th>0</th>\n",
       "      <td>540.0</td>\n",
       "      <td>162.0</td>\n",
       "      <td>28</td>\n",
       "      <td>2.5</td>\n",
       "      <td>858.00</td>\n",
       "      <td>79.986111</td>\n",
       "    </tr>\n",
       "    <tr>\n",
       "      <th>1</th>\n",
       "      <td>540.0</td>\n",
       "      <td>162.0</td>\n",
       "      <td>28</td>\n",
       "      <td>2.5</td>\n",
       "      <td>865.50</td>\n",
       "      <td>61.887366</td>\n",
       "    </tr>\n",
       "    <tr>\n",
       "      <th>2</th>\n",
       "      <td>332.5</td>\n",
       "      <td>228.0</td>\n",
       "      <td>270</td>\n",
       "      <td>142.5</td>\n",
       "      <td>763.00</td>\n",
       "      <td>40.269535</td>\n",
       "    </tr>\n",
       "    <tr>\n",
       "      <th>3</th>\n",
       "      <td>332.5</td>\n",
       "      <td>228.0</td>\n",
       "      <td>365</td>\n",
       "      <td>142.5</td>\n",
       "      <td>763.00</td>\n",
       "      <td>41.052780</td>\n",
       "    </tr>\n",
       "    <tr>\n",
       "      <th>4</th>\n",
       "      <td>198.6</td>\n",
       "      <td>192.0</td>\n",
       "      <td>360</td>\n",
       "      <td>132.4</td>\n",
       "      <td>901.95</td>\n",
       "      <td>44.296075</td>\n",
       "    </tr>\n",
       "  </tbody>\n",
       "</table>\n",
       "</div>"
      ],
      "text/plain": [
       "   cement  water  age  Mixed_fire  Aggregate         str\n",
       "0   540.0  162.0   28         2.5      858.00  79.986111\n",
       "1   540.0  162.0   28         2.5      865.50  61.887366\n",
       "2   332.5  228.0  270       142.5      763.00  40.269535\n",
       "3   332.5  228.0  365       142.5      763.00  41.052780\n",
       "4   198.6  192.0  360       132.4      901.95  44.296075"
      ]
     },
     "execution_count": 11,
     "metadata": {},
     "output_type": "execute_result"
    }
   ],
   "source": [
    "df2.head()"
   ]
  },
  {
   "cell_type": "code",
   "execution_count": 12,
   "id": "4e44357e",
   "metadata": {},
   "outputs": [],
   "source": [
    "# 사분위수 분할\n",
    "IQR = df2['str'].quantile(0.75) - df2['str'].quantile(0.25)\n",
    "cut_high = df2['str'].quantile(0.75) + IQR*1.5\n",
    "cut_low = df2['str'].quantile(0.25) - IQR*1.5"
   ]
  },
  {
   "cell_type": "code",
   "execution_count": 13,
   "id": "b94574ab",
   "metadata": {},
   "outputs": [],
   "source": [
    "# 사분위수 명칭\n",
    "def get_cat(x):\n",
    "    result = 0\n",
    "    \n",
    "    if cut_low <= x < df2['str'].quantile(0.25):\n",
    "        result = 0\n",
    "    elif df2['str'].quantile(0.25) <= x < df2['str'].quantile(0.5):\n",
    "        result=1\n",
    "    elif df2['str'].quantile(0.5) <= x < df2['str'].quantile(0.75) :\n",
    "        result=2\n",
    "    else:\n",
    "        result=3\n",
    "    \n",
    "    return result"
   ]
  },
  {
   "cell_type": "code",
   "execution_count": 14,
   "id": "e72fab0d",
   "metadata": {},
   "outputs": [],
   "source": [
    "df2['str_grp'] = df2['str'].apply(lambda x: get_cat(x))"
   ]
  },
  {
   "cell_type": "code",
   "execution_count": 15,
   "id": "30c8cc58",
   "metadata": {},
   "outputs": [
    {
     "data": {
      "text/html": [
       "<div>\n",
       "<style scoped>\n",
       "    .dataframe tbody tr th:only-of-type {\n",
       "        vertical-align: middle;\n",
       "    }\n",
       "\n",
       "    .dataframe tbody tr th {\n",
       "        vertical-align: top;\n",
       "    }\n",
       "\n",
       "    .dataframe thead th {\n",
       "        text-align: right;\n",
       "    }\n",
       "</style>\n",
       "<table border=\"1\" class=\"dataframe\">\n",
       "  <thead>\n",
       "    <tr style=\"text-align: right;\">\n",
       "      <th></th>\n",
       "      <th>cement</th>\n",
       "      <th>water</th>\n",
       "      <th>age</th>\n",
       "      <th>Mixed_fire</th>\n",
       "      <th>Aggregate</th>\n",
       "      <th>str</th>\n",
       "      <th>str_grp</th>\n",
       "    </tr>\n",
       "  </thead>\n",
       "  <tbody>\n",
       "    <tr>\n",
       "      <th>0</th>\n",
       "      <td>540.0</td>\n",
       "      <td>162.0</td>\n",
       "      <td>28</td>\n",
       "      <td>2.5</td>\n",
       "      <td>858.00</td>\n",
       "      <td>79.986111</td>\n",
       "      <td>3</td>\n",
       "    </tr>\n",
       "    <tr>\n",
       "      <th>1</th>\n",
       "      <td>540.0</td>\n",
       "      <td>162.0</td>\n",
       "      <td>28</td>\n",
       "      <td>2.5</td>\n",
       "      <td>865.50</td>\n",
       "      <td>61.887366</td>\n",
       "      <td>3</td>\n",
       "    </tr>\n",
       "    <tr>\n",
       "      <th>2</th>\n",
       "      <td>332.5</td>\n",
       "      <td>228.0</td>\n",
       "      <td>270</td>\n",
       "      <td>142.5</td>\n",
       "      <td>763.00</td>\n",
       "      <td>40.269535</td>\n",
       "      <td>2</td>\n",
       "    </tr>\n",
       "    <tr>\n",
       "      <th>3</th>\n",
       "      <td>332.5</td>\n",
       "      <td>228.0</td>\n",
       "      <td>365</td>\n",
       "      <td>142.5</td>\n",
       "      <td>763.00</td>\n",
       "      <td>41.052780</td>\n",
       "      <td>2</td>\n",
       "    </tr>\n",
       "    <tr>\n",
       "      <th>4</th>\n",
       "      <td>198.6</td>\n",
       "      <td>192.0</td>\n",
       "      <td>360</td>\n",
       "      <td>132.4</td>\n",
       "      <td>901.95</td>\n",
       "      <td>44.296075</td>\n",
       "      <td>2</td>\n",
       "    </tr>\n",
       "  </tbody>\n",
       "</table>\n",
       "</div>"
      ],
      "text/plain": [
       "   cement  water  age  Mixed_fire  Aggregate         str  str_grp\n",
       "0   540.0  162.0   28         2.5      858.00  79.986111        3\n",
       "1   540.0  162.0   28         2.5      865.50  61.887366        3\n",
       "2   332.5  228.0  270       142.5      763.00  40.269535        2\n",
       "3   332.5  228.0  365       142.5      763.00  41.052780        2\n",
       "4   198.6  192.0  360       132.4      901.95  44.296075        2"
      ]
     },
     "execution_count": 15,
     "metadata": {},
     "output_type": "execute_result"
    }
   ],
   "source": [
    "df2.head()"
   ]
  },
  {
   "cell_type": "code",
   "execution_count": 16,
   "id": "8db96243",
   "metadata": {},
   "outputs": [],
   "source": [
    "X = df2.iloc[:,:5]\n",
    "y1 = df2.iloc[:,5]\n",
    "y2 = df2.iloc[:,6]"
   ]
  },
  {
   "cell_type": "code",
   "execution_count": 17,
   "id": "22d4cd1e",
   "metadata": {},
   "outputs": [
    {
     "data": {
      "image/png": "[encoded data removed]",
      "text/plain": [
       "<Figure size 1800x1440 with 5 Axes>"
      ]
     },
     "metadata": {
      "needs_background": "light"
     },
     "output_type": "display_data"
    }
   ],
   "source": [
    "plt.figure(figsize = (25, 20))\n",
    "plotnumber = 1\n",
    "\n",
    "for col in X.columns:\n",
    "    if plotnumber <= 8:\n",
    "        ax = plt.subplot(3, 3, plotnumber)\n",
    "        sns.distplot(X[col])\n",
    "        plt.xlabel(col, fontsize = 15)\n",
    "        \n",
    "    plotnumber += 1\n",
    "    \n",
    "plt.tight_layout()\n",
    "plt.show()"
   ]
  },
  {
   "cell_type": "code",
   "execution_count": 18,
   "id": "3b5d6b12",
   "metadata": {},
   "outputs": [],
   "source": [
    "X = df2.iloc[:,:5]\n",
    "y = df2.iloc[:,5]"
   ]
  },
  {
   "cell_type": "code",
   "execution_count": 19,
   "id": "ca633fbf",
   "metadata": {},
   "outputs": [],
   "source": [
    "label = ['cement','water','age', 'Mixed_fire', 'Aggregate','str','str_grp']"
   ]
  },
  {
   "cell_type": "markdown",
   "id": "4509c77e",
   "metadata": {},
   "source": [
    "## 결론 : 표준화를 해서 값을 봐도 결국엔 같음\n",
    "\n",
    "* 데이터가 정규화되고 모양이 좋으므로 특이치가 있는지 확인"
   ]
  },
  {
   "cell_type": "code",
   "execution_count": 20,
   "id": "2cd1df64",
   "metadata": {},
   "outputs": [
    {
     "data": {
      "text/html": [
       "<div>\n",
       "<style scoped>\n",
       "    .dataframe tbody tr th:only-of-type {\n",
       "        vertical-align: middle;\n",
       "    }\n",
       "\n",
       "    .dataframe tbody tr th {\n",
       "        vertical-align: top;\n",
       "    }\n",
       "\n",
       "    .dataframe thead th {\n",
       "        text-align: right;\n",
       "    }\n",
       "</style>\n",
       "<table border=\"1\" class=\"dataframe\">\n",
       "  <thead>\n",
       "    <tr style=\"text-align: right;\">\n",
       "      <th></th>\n",
       "      <th>cement</th>\n",
       "      <th>water</th>\n",
       "      <th>age</th>\n",
       "      <th>Mixed_fire</th>\n",
       "      <th>Aggregate</th>\n",
       "      <th>str</th>\n",
       "      <th>str_grp</th>\n",
       "    </tr>\n",
       "  </thead>\n",
       "  <tbody>\n",
       "    <tr>\n",
       "      <th>0</th>\n",
       "      <td>540.0</td>\n",
       "      <td>162.0</td>\n",
       "      <td>28</td>\n",
       "      <td>2.5</td>\n",
       "      <td>858.00</td>\n",
       "      <td>79.986111</td>\n",
       "      <td>3</td>\n",
       "    </tr>\n",
       "    <tr>\n",
       "      <th>1</th>\n",
       "      <td>540.0</td>\n",
       "      <td>162.0</td>\n",
       "      <td>28</td>\n",
       "      <td>2.5</td>\n",
       "      <td>865.50</td>\n",
       "      <td>61.887366</td>\n",
       "      <td>3</td>\n",
       "    </tr>\n",
       "    <tr>\n",
       "      <th>2</th>\n",
       "      <td>332.5</td>\n",
       "      <td>228.0</td>\n",
       "      <td>270</td>\n",
       "      <td>142.5</td>\n",
       "      <td>763.00</td>\n",
       "      <td>40.269535</td>\n",
       "      <td>2</td>\n",
       "    </tr>\n",
       "    <tr>\n",
       "      <th>3</th>\n",
       "      <td>332.5</td>\n",
       "      <td>228.0</td>\n",
       "      <td>365</td>\n",
       "      <td>142.5</td>\n",
       "      <td>763.00</td>\n",
       "      <td>41.052780</td>\n",
       "      <td>2</td>\n",
       "    </tr>\n",
       "    <tr>\n",
       "      <th>4</th>\n",
       "      <td>198.6</td>\n",
       "      <td>192.0</td>\n",
       "      <td>360</td>\n",
       "      <td>132.4</td>\n",
       "      <td>901.95</td>\n",
       "      <td>44.296075</td>\n",
       "      <td>2</td>\n",
       "    </tr>\n",
       "  </tbody>\n",
       "</table>\n",
       "</div>"
      ],
      "text/plain": [
       "   cement  water  age  Mixed_fire  Aggregate         str  str_grp\n",
       "0   540.0  162.0   28         2.5      858.00  79.986111        3\n",
       "1   540.0  162.0   28         2.5      865.50  61.887366        3\n",
       "2   332.5  228.0  270       142.5      763.00  40.269535        2\n",
       "3   332.5  228.0  365       142.5      763.00  41.052780        2\n",
       "4   198.6  192.0  360       132.4      901.95  44.296075        2"
      ]
     },
     "execution_count": 20,
     "metadata": {},
     "output_type": "execute_result"
    }
   ],
   "source": [
    "df2.head()"
   ]
  },
  {
   "cell_type": "code",
   "execution_count": 21,
   "id": "504b113a",
   "metadata": {},
   "outputs": [],
   "source": [
    "df2 = round(df2,2)"
   ]
  },
  {
   "cell_type": "code",
   "execution_count": null,
   "id": "782c438d",
   "metadata": {},
   "outputs": [],
   "source": []
  },
  {
   "cell_type": "code",
   "execution_count": 22,
   "id": "aacc3b99",
   "metadata": {},
   "outputs": [
    {
     "data": {
      "text/html": [
       "<div>\n",
       "<style scoped>\n",
       "    .dataframe tbody tr th:only-of-type {\n",
       "        vertical-align: middle;\n",
       "    }\n",
       "\n",
       "    .dataframe tbody tr th {\n",
       "        vertical-align: top;\n",
       "    }\n",
       "\n",
       "    .dataframe thead th {\n",
       "        text-align: right;\n",
       "    }\n",
       "</style>\n",
       "<table border=\"1\" class=\"dataframe\">\n",
       "  <thead>\n",
       "    <tr style=\"text-align: right;\">\n",
       "      <th></th>\n",
       "      <th>cement</th>\n",
       "      <th>water</th>\n",
       "      <th>age</th>\n",
       "      <th>Mixed_fire</th>\n",
       "      <th>Aggregate</th>\n",
       "      <th>str</th>\n",
       "      <th>str_grp</th>\n",
       "    </tr>\n",
       "  </thead>\n",
       "  <tbody>\n",
       "    <tr>\n",
       "      <th>0</th>\n",
       "      <td>540.0</td>\n",
       "      <td>162.0</td>\n",
       "      <td>28</td>\n",
       "      <td>2.5</td>\n",
       "      <td>858.00</td>\n",
       "      <td>79.99</td>\n",
       "      <td>3</td>\n",
       "    </tr>\n",
       "    <tr>\n",
       "      <th>1</th>\n",
       "      <td>540.0</td>\n",
       "      <td>162.0</td>\n",
       "      <td>28</td>\n",
       "      <td>2.5</td>\n",
       "      <td>865.50</td>\n",
       "      <td>61.89</td>\n",
       "      <td>3</td>\n",
       "    </tr>\n",
       "    <tr>\n",
       "      <th>2</th>\n",
       "      <td>332.5</td>\n",
       "      <td>228.0</td>\n",
       "      <td>270</td>\n",
       "      <td>142.5</td>\n",
       "      <td>763.00</td>\n",
       "      <td>40.27</td>\n",
       "      <td>2</td>\n",
       "    </tr>\n",
       "    <tr>\n",
       "      <th>3</th>\n",
       "      <td>332.5</td>\n",
       "      <td>228.0</td>\n",
       "      <td>365</td>\n",
       "      <td>142.5</td>\n",
       "      <td>763.00</td>\n",
       "      <td>41.05</td>\n",
       "      <td>2</td>\n",
       "    </tr>\n",
       "    <tr>\n",
       "      <th>4</th>\n",
       "      <td>198.6</td>\n",
       "      <td>192.0</td>\n",
       "      <td>360</td>\n",
       "      <td>132.4</td>\n",
       "      <td>901.95</td>\n",
       "      <td>44.30</td>\n",
       "      <td>2</td>\n",
       "    </tr>\n",
       "  </tbody>\n",
       "</table>\n",
       "</div>"
      ],
      "text/plain": [
       "   cement  water  age  Mixed_fire  Aggregate     str  str_grp\n",
       "0   540.0  162.0   28         2.5      858.00  79.99        3\n",
       "1   540.0  162.0   28         2.5      865.50  61.89        3\n",
       "2   332.5  228.0  270       142.5      763.00  40.27        2\n",
       "3   332.5  228.0  365       142.5      763.00  41.05        2\n",
       "4   198.6  192.0  360       132.4      901.95  44.30        2"
      ]
     },
     "execution_count": 22,
     "metadata": {},
     "output_type": "execute_result"
    }
   ],
   "source": [
    "df2.head()"
   ]
  },
  {
   "cell_type": "code",
   "execution_count": 23,
   "id": "798de33c",
   "metadata": {},
   "outputs": [],
   "source": [
    "df2.to_csv('Concrete_Data_2.csv',index=None, encoding='euc-kr')"
   ]
  },
  {
   "cell_type": "code",
   "execution_count": 24,
   "id": "05b131b1",
   "metadata": {},
   "outputs": [
    {
     "data": {
      "image/png": "[encoded data removed]",
      "text/plain": [
       "<Figure size 432x288 with 1 Axes>"
      ]
     },
     "metadata": {
      "needs_background": "light"
     },
     "output_type": "display_data"
    }
   ],
   "source": [
    "fig, axes = plt.subplots(1,1)\n",
    "fig.suptitle('Columns boxplot')\n",
    "axes.set_xticklabels(label)\n",
    "axes.boxplot(df2.iloc[:,:6])\n",
    "plt.tight_layout()\n",
    "plt.show()"
   ]
  },
  {
   "cell_type": "code",
   "execution_count": 25,
   "id": "fd102a34",
   "metadata": {},
   "outputs": [
    {
     "data": {
      "image/png": "[encoded data removed]",
      "text/plain": [
       "<Figure size 1152x1152 with 2 Axes>"
      ]
     },
     "metadata": {
      "needs_background": "light"
     },
     "output_type": "display_data"
    }
   ],
   "source": [
    "# heatmap을 사용해서 상관관계 확인하기\n",
    "corr = df2.corr()\n",
    "plt.figure(figsize=(16,16))\n",
    "sns.heatmap(corr, cbar = True,  square = True, annot=True, fmt= '.2f',annot_kws={'size': 10},\n",
    "           xticklabels= label, yticklabels= label, alpha = 0.7,   cmap= 'coolwarm')\n",
    "plt.show()"
   ]
  },
  {
   "cell_type": "code",
   "execution_count": 26,
   "id": "1c7ca9d0",
   "metadata": {},
   "outputs": [],
   "source": [
    "# 데이터 분할하기(강도)\n",
    "X1_train, X1_test, y1_train, y1_test = train_test_split(X, y1, test_size = 0.25)"
   ]
  },
  {
   "cell_type": "code",
   "execution_count": 27,
   "id": "256ceae1",
   "metadata": {},
   "outputs": [],
   "source": [
    "# 데이터 분할하기(강도그룹화)\n",
    "X2_train, X2_test, y2_train, y2_test = train_test_split(X, y2, test_size = 0.25)"
   ]
  },
  {
   "cell_type": "code",
   "execution_count": 28,
   "id": "c3fb8eb6",
   "metadata": {},
   "outputs": [],
   "source": [
    "# 데이터 스케일링\n",
    "sc = StandardScaler()\n",
    "X1_train = sc.fit_transform(X1_train)\n",
    "X1_test = sc.transform(X1_test)\n",
    "X2_train = sc.fit_transform(X2_train)\n",
    "X2_test = sc.transform(X2_test) "
   ]
  },
  {
   "cell_type": "code",
   "execution_count": 29,
   "id": "4073d217",
   "metadata": {},
   "outputs": [
    {
     "data": {
      "text/plain": [
       "0       79.986111\n",
       "1       61.887366\n",
       "2       40.269535\n",
       "3       41.052780\n",
       "4       44.296075\n",
       "          ...    \n",
       "1025    44.284354\n",
       "1026    31.178794\n",
       "1027    23.696601\n",
       "1028    32.768036\n",
       "1029    32.401235\n",
       "Name: str, Length: 1030, dtype: float64"
      ]
     },
     "execution_count": 29,
     "metadata": {},
     "output_type": "execute_result"
    }
   ],
   "source": [
    "y1"
   ]
  },
  {
   "cell_type": "code",
   "execution_count": 30,
   "id": "1970d589",
   "metadata": {},
   "outputs": [
    {
     "data": {
      "text/plain": [
       "0       3\n",
       "1       3\n",
       "2       2\n",
       "3       2\n",
       "4       2\n",
       "       ..\n",
       "1025    2\n",
       "1026    1\n",
       "1027    0\n",
       "1028    1\n",
       "1029    1\n",
       "Name: str_grp, Length: 1030, dtype: int64"
      ]
     },
     "execution_count": 30,
     "metadata": {},
     "output_type": "execute_result"
    }
   ],
   "source": [
    "y2"
   ]
  },
  {
   "cell_type": "markdown",
   "id": "f2a9ea34",
   "metadata": {},
   "source": [
    "## 선형 회귀분석"
   ]
  },
  {
   "cell_type": "code",
   "execution_count": 31,
   "id": "84350156",
   "metadata": {},
   "outputs": [
    {
     "data": {
      "text/plain": [
       "LinearRegression()"
      ]
     },
     "execution_count": 31,
     "metadata": {},
     "output_type": "execute_result"
    }
   ],
   "source": [
    "lr1 = LinearRegression()\n",
    "lr1.fit(X1_train, y1_train)"
   ]
  },
  {
   "cell_type": "code",
   "execution_count": 32,
   "id": "0f1ff4ec",
   "metadata": {},
   "outputs": [
    {
     "data": {
      "text/plain": [
       "0.6108842018874497"
      ]
     },
     "execution_count": 32,
     "metadata": {},
     "output_type": "execute_result"
    }
   ],
   "source": [
    "lr1.score(X1_train, y1_train)"
   ]
  },
  {
   "cell_type": "code",
   "execution_count": 33,
   "id": "231c709b",
   "metadata": {},
   "outputs": [
    {
     "data": {
      "text/plain": [
       "0.611312115316123"
      ]
     },
     "execution_count": 33,
     "metadata": {},
     "output_type": "execute_result"
    }
   ],
   "source": [
    "lr1.score(X1_test, y1_test)"
   ]
  },
  {
   "cell_type": "code",
   "execution_count": 34,
   "id": "3a022854",
   "metadata": {},
   "outputs": [
    {
     "data": {
      "text/plain": [
       "LinearRegression()"
      ]
     },
     "execution_count": 34,
     "metadata": {},
     "output_type": "execute_result"
    }
   ],
   "source": [
    "lr2 = LinearRegression()\n",
    "lr2.fit(X2_train, y2_train)"
   ]
  },
  {
   "cell_type": "code",
   "execution_count": 35,
   "id": "38e6a6c2",
   "metadata": {},
   "outputs": [
    {
     "data": {
      "text/plain": [
       "0.549817740768447"
      ]
     },
     "execution_count": 35,
     "metadata": {},
     "output_type": "execute_result"
    }
   ],
   "source": [
    "lr2.score(X2_train, y2_train)"
   ]
  },
  {
   "cell_type": "code",
   "execution_count": 36,
   "id": "bd83f154",
   "metadata": {},
   "outputs": [
    {
     "data": {
      "text/plain": [
       "0.5104340149312183"
      ]
     },
     "execution_count": 36,
     "metadata": {},
     "output_type": "execute_result"
    }
   ],
   "source": [
    "lr2.score(X2_test, y2_test)"
   ]
  },
  {
   "cell_type": "markdown",
   "id": "f7a39638",
   "metadata": {},
   "source": [
    "## 로지스틱 회귀분석"
   ]
  },
  {
   "cell_type": "code",
   "execution_count": 37,
   "id": "404213c8",
   "metadata": {},
   "outputs": [],
   "source": [
    "features = df2.iloc[:,:5]\n",
    "target = df2.iloc[:,6]"
   ]
  },
  {
   "cell_type": "code",
   "execution_count": 38,
   "id": "8bf1410f",
   "metadata": {},
   "outputs": [],
   "source": [
    "# 데이터 분할하기(강도그룹화)\n",
    "X_train, X_test, y_train, y_test = train_test_split(features, target, test_size = 0.25)"
   ]
  },
  {
   "cell_type": "code",
   "execution_count": 39,
   "id": "95092075",
   "metadata": {},
   "outputs": [],
   "source": [
    "#스케일링\n",
    "scaler = StandardScaler()\n",
    "X_train = scaler.fit_transform(X_train)\n",
    "X_test = scaler.fit_transform(X_test)"
   ]
  },
  {
   "cell_type": "code",
   "execution_count": 40,
   "id": "8bf13a45",
   "metadata": {},
   "outputs": [
    {
     "data": {
      "text/plain": [
       "LogisticRegression()"
      ]
     },
     "execution_count": 40,
     "metadata": {},
     "output_type": "execute_result"
    }
   ],
   "source": [
    "model = LogisticRegression()\n",
    "model.fit(X_train, y_train)"
   ]
  },
  {
   "cell_type": "code",
   "execution_count": 41,
   "id": "79667ddc",
   "metadata": {},
   "outputs": [
    {
     "name": "stdout",
     "output_type": "stream",
     "text": [
      "0.6450777202072538\n"
     ]
    }
   ],
   "source": [
    "print(model.score(X_train, y_train))"
   ]
  },
  {
   "cell_type": "code",
   "execution_count": 67,
   "id": "7a376d8f",
   "metadata": {},
   "outputs": [
    {
     "name": "stdout",
     "output_type": "stream",
     "text": [
      "[[-2.21502129  0.56303278 -5.17227843 -1.36024882  0.03789602]\n",
      " [-0.32577869  0.36840134  0.46266147 -0.19454598  0.05835081]\n",
      " [ 0.57511317 -0.25312673  2.12711812  0.15880705 -0.28764766]\n",
      " [ 1.96568681 -0.67830739  2.58249884  1.39598775  0.19140083]]\n"
     ]
    }
   ],
   "source": [
    "print(model.coef_)"
   ]
  },
  {
   "cell_type": "markdown",
   "id": "6b249d95",
   "metadata": {},
   "source": [
    "## 의사결정 나무"
   ]
  },
  {
   "cell_type": "code",
   "execution_count": 42,
   "id": "523c0038",
   "metadata": {},
   "outputs": [
    {
     "data": {
      "text/plain": [
       "DecisionTreeRegressor()"
      ]
     },
     "execution_count": 42,
     "metadata": {},
     "output_type": "execute_result"
    }
   ],
   "source": [
    "dtr1 = DecisionTreeRegressor()\n",
    "dtr1.fit(X1_train, y1_train)"
   ]
  },
  {
   "cell_type": "code",
   "execution_count": 43,
   "id": "ff04c92b",
   "metadata": {},
   "outputs": [
    {
     "data": {
      "text/plain": [
       "0.9964916739061093"
      ]
     },
     "execution_count": 43,
     "metadata": {},
     "output_type": "execute_result"
    }
   ],
   "source": [
    "dtr1.score(X1_train, y1_train)"
   ]
  },
  {
   "cell_type": "code",
   "execution_count": 44,
   "id": "75679d41",
   "metadata": {},
   "outputs": [
    {
     "data": {
      "text/plain": [
       "0.8391984401806132"
      ]
     },
     "execution_count": 44,
     "metadata": {},
     "output_type": "execute_result"
    }
   ],
   "source": [
    "dtr1.score(X1_test, y1_test)"
   ]
  },
  {
   "cell_type": "code",
   "execution_count": 45,
   "id": "056ed829",
   "metadata": {},
   "outputs": [
    {
     "name": "stdout",
     "output_type": "stream",
     "text": [
      "Fitting 5 folds for each of 750 candidates, totalling 3750 fits\n"
     ]
    },
    {
     "data": {
      "text/plain": [
       "GridSearchCV(cv=5, estimator=DecisionTreeRegressor(), n_jobs=-1,\n",
       "             param_grid={'criterion': ['mse', 'friedman_mse', 'mae'],\n",
       "                         'max_depth': [3, 5, 7, 9, 10],\n",
       "                         'min_samples_leaf': [1, 2, 3, 4, 5],\n",
       "                         'min_samples_split': [1, 2, 3, 4, 5],\n",
       "                         'splitter': ['best', 'random']},\n",
       "             verbose=1)"
      ]
     },
     "execution_count": 45,
     "metadata": {},
     "output_type": "execute_result"
    }
   ],
   "source": [
    "# 하이퍼 파라미터 조정 \n",
    "grid_params = {\n",
    "    'criterion' : ['mse', 'friedman_mse', 'mae'],\n",
    "    'splitter' : ['best', 'random'],\n",
    "    'max_depth' : [3, 5, 7, 9, 10],\n",
    "    'min_samples_split' : [1, 2, 3, 4, 5],\n",
    "    'min_samples_leaf' : [1, 2, 3, 4, 5]\n",
    "}\n",
    "\n",
    "grid_search = GridSearchCV(dtr1, grid_params, cv = 5, n_jobs = -1, verbose = 1)\n",
    "grid_search.fit(X1_train, y1_train)"
   ]
  },
  {
   "cell_type": "code",
   "execution_count": 46,
   "id": "51b29652",
   "metadata": {},
   "outputs": [
    {
     "name": "stdout",
     "output_type": "stream",
     "text": [
      "{'criterion': 'friedman_mse', 'max_depth': 10, 'min_samples_leaf': 4, 'min_samples_split': 3, 'splitter': 'best'}\n",
      "0.7925352351891218\n"
     ]
    }
   ],
   "source": [
    "# 최적의 파라미터 확인\n",
    "print(grid_search.best_params_)\n",
    "print(grid_search.best_score_)"
   ]
  },
  {
   "cell_type": "code",
   "execution_count": 47,
   "id": "00699386",
   "metadata": {},
   "outputs": [
    {
     "data": {
      "text/plain": [
       "DecisionTreeRegressor(criterion='friedman_mse', max_depth=9,\n",
       "                      min_samples_split=3, splitter='random')"
      ]
     },
     "execution_count": 47,
     "metadata": {},
     "output_type": "execute_result"
    }
   ],
   "source": [
    "dtr1 = DecisionTreeRegressor(criterion = 'friedman_mse', max_depth = 9, min_samples_leaf = 1, min_samples_split = 3, splitter = 'random')\n",
    "dtr1.fit(X1_train, y1_train)"
   ]
  },
  {
   "cell_type": "code",
   "execution_count": 48,
   "id": "9f392b2c",
   "metadata": {},
   "outputs": [
    {
     "data": {
      "text/plain": [
       "0.9125455944704375"
      ]
     },
     "execution_count": 48,
     "metadata": {},
     "output_type": "execute_result"
    }
   ],
   "source": [
    "dtr1.score(X1_train, y1_train)"
   ]
  },
  {
   "cell_type": "code",
   "execution_count": 49,
   "id": "5c43e985",
   "metadata": {},
   "outputs": [
    {
     "data": {
      "text/plain": [
       "0.7677750712302166"
      ]
     },
     "execution_count": 49,
     "metadata": {},
     "output_type": "execute_result"
    }
   ],
   "source": [
    "dtr1.score(X1_test, y1_test)"
   ]
  },
  {
   "cell_type": "code",
   "execution_count": null,
   "id": "32771f7f",
   "metadata": {},
   "outputs": [],
   "source": []
  },
  {
   "cell_type": "code",
   "execution_count": 50,
   "id": "ec547bd0",
   "metadata": {},
   "outputs": [
    {
     "data": {
      "text/plain": [
       "DecisionTreeRegressor()"
      ]
     },
     "execution_count": 50,
     "metadata": {},
     "output_type": "execute_result"
    }
   ],
   "source": [
    "dtr2 = DecisionTreeRegressor()\n",
    "dtr2.fit(X2_train, y2_train)"
   ]
  },
  {
   "cell_type": "code",
   "execution_count": 51,
   "id": "ff023a72",
   "metadata": {},
   "outputs": [
    {
     "data": {
      "text/plain": [
       "0.9920180158305573"
      ]
     },
     "execution_count": 51,
     "metadata": {},
     "output_type": "execute_result"
    }
   ],
   "source": [
    "dtr2.score(X2_train, y2_train)"
   ]
  },
  {
   "cell_type": "code",
   "execution_count": 52,
   "id": "7b159766",
   "metadata": {},
   "outputs": [
    {
     "data": {
      "text/plain": [
       "0.7054758657639667"
      ]
     },
     "execution_count": 52,
     "metadata": {},
     "output_type": "execute_result"
    }
   ],
   "source": [
    "dtr2.score(X2_test, y2_test)"
   ]
  },
  {
   "cell_type": "code",
   "execution_count": 53,
   "id": "767c5810",
   "metadata": {},
   "outputs": [
    {
     "name": "stdout",
     "output_type": "stream",
     "text": [
      "Fitting 5 folds for each of 750 candidates, totalling 3750 fits\n"
     ]
    },
    {
     "data": {
      "text/plain": [
       "GridSearchCV(cv=5, estimator=DecisionTreeRegressor(), n_jobs=-1,\n",
       "             param_grid={'criterion': ['mse', 'friedman_mse', 'mae'],\n",
       "                         'max_depth': [3, 5, 7, 9, 10],\n",
       "                         'min_samples_leaf': [1, 2, 3, 4, 5],\n",
       "                         'min_samples_split': [1, 2, 3, 4, 5],\n",
       "                         'splitter': ['best', 'random']},\n",
       "             verbose=1)"
      ]
     },
     "execution_count": 53,
     "metadata": {},
     "output_type": "execute_result"
    }
   ],
   "source": [
    "# 하이퍼 파라미터 조정 \n",
    "grid_params = {\n",
    "    'criterion' : ['mse', 'friedman_mse', 'mae'],\n",
    "    'splitter' : ['best', 'random'],\n",
    "    'max_depth' : [3, 5, 7, 9, 10],\n",
    "    'min_samples_split' : [1, 2, 3, 4, 5],\n",
    "    'min_samples_leaf' : [1, 2, 3, 4, 5]\n",
    "}\n",
    "\n",
    "grid_search = GridSearchCV(dtr2, grid_params, cv = 5, n_jobs = -1, verbose = 1)\n",
    "grid_search.fit(X2_train, y2_train)"
   ]
  },
  {
   "cell_type": "code",
   "execution_count": 54,
   "id": "bd4fb04a",
   "metadata": {},
   "outputs": [
    {
     "name": "stdout",
     "output_type": "stream",
     "text": [
      "{'criterion': 'friedman_mse', 'max_depth': 10, 'min_samples_leaf': 2, 'min_samples_split': 5, 'splitter': 'best'}\n",
      "0.7614189339805428\n"
     ]
    }
   ],
   "source": [
    "# 최적의 파라미터 확인\n",
    "print(grid_search.best_params_)\n",
    "print(grid_search.best_score_)"
   ]
  },
  {
   "cell_type": "code",
   "execution_count": 55,
   "id": "90818132",
   "metadata": {},
   "outputs": [
    {
     "data": {
      "text/plain": [
       "DecisionTreeRegressor(criterion='friedman_mse', max_depth=10,\n",
       "                      min_samples_leaf=4, splitter='random')"
      ]
     },
     "execution_count": 55,
     "metadata": {},
     "output_type": "execute_result"
    }
   ],
   "source": [
    "dtr2 = DecisionTreeRegressor(criterion = 'friedman_mse', max_depth = 10, min_samples_leaf = 4, min_samples_split = 2, splitter = 'random')\n",
    "dtr2.fit(X2_train, y2_train)"
   ]
  },
  {
   "cell_type": "code",
   "execution_count": 56,
   "id": "b03d0d01",
   "metadata": {},
   "outputs": [
    {
     "data": {
      "text/plain": [
       "0.8196954704237582"
      ]
     },
     "execution_count": 56,
     "metadata": {},
     "output_type": "execute_result"
    }
   ],
   "source": [
    "dtr2.score(X2_train, y2_train)"
   ]
  },
  {
   "cell_type": "code",
   "execution_count": 57,
   "id": "6c63d90c",
   "metadata": {},
   "outputs": [
    {
     "data": {
      "text/plain": [
       "0.7015095101413116"
      ]
     },
     "execution_count": 57,
     "metadata": {},
     "output_type": "execute_result"
    }
   ],
   "source": [
    "dtr2.score(X2_test, y2_test)"
   ]
  },
  {
   "cell_type": "code",
   "execution_count": null,
   "id": "53cc7d20",
   "metadata": {},
   "outputs": [],
   "source": []
  },
  {
   "cell_type": "markdown",
   "id": "105d13c1",
   "metadata": {},
   "source": [
    "## 랜덤포레스트 회귀분석"
   ]
  },
  {
   "cell_type": "code",
   "execution_count": 58,
   "id": "8bfbea75",
   "metadata": {},
   "outputs": [
    {
     "data": {
      "text/plain": [
       "RandomForestRegressor()"
      ]
     },
     "execution_count": 58,
     "metadata": {},
     "output_type": "execute_result"
    }
   ],
   "source": [
    "rfr1 = RandomForestRegressor()\n",
    "rfr1.fit(X1_train, y1_train)"
   ]
  },
  {
   "cell_type": "code",
   "execution_count": 59,
   "id": "dd7bbc4c",
   "metadata": {},
   "outputs": [
    {
     "data": {
      "text/plain": [
       "0.9819216743176244"
      ]
     },
     "execution_count": 59,
     "metadata": {},
     "output_type": "execute_result"
    }
   ],
   "source": [
    "rfr1.score(X1_train, y1_train)"
   ]
  },
  {
   "cell_type": "code",
   "execution_count": 60,
   "id": "fb831d38",
   "metadata": {},
   "outputs": [
    {
     "data": {
      "text/plain": [
       "0.9030840931395788"
      ]
     },
     "execution_count": 60,
     "metadata": {},
     "output_type": "execute_result"
    }
   ],
   "source": [
    "rfr1.score(X1_test, y1_test)"
   ]
  },
  {
   "cell_type": "code",
   "execution_count": 61,
   "id": "2388baa3",
   "metadata": {},
   "outputs": [
    {
     "data": {
      "text/plain": [
       "RandomForestRegressor()"
      ]
     },
     "execution_count": 61,
     "metadata": {},
     "output_type": "execute_result"
    }
   ],
   "source": [
    "rfr2 = RandomForestRegressor()\n",
    "rfr2.fit(X2_train, y2_train)"
   ]
  },
  {
   "cell_type": "code",
   "execution_count": 62,
   "id": "fa924533",
   "metadata": {},
   "outputs": [
    {
     "data": {
      "text/plain": [
       "0.9734094502399816"
      ]
     },
     "execution_count": 62,
     "metadata": {},
     "output_type": "execute_result"
    }
   ],
   "source": [
    "rfr2.score(X2_train, y2_train)"
   ]
  },
  {
   "cell_type": "code",
   "execution_count": 63,
   "id": "b7334d38",
   "metadata": {},
   "outputs": [
    {
     "data": {
      "text/plain": [
       "0.8233838577221827"
      ]
     },
     "execution_count": 63,
     "metadata": {},
     "output_type": "execute_result"
    }
   ],
   "source": [
    "rfr2.score(X2_test, y2_test)"
   ]
  },
  {
   "cell_type": "markdown",
   "id": "67bcebc8",
   "metadata": {},
   "source": [
    "# 최종 평가"
   ]
  },
  {
   "cell_type": "code",
   "execution_count": 64,
   "id": "8927db08",
   "metadata": {},
   "outputs": [
    {
     "data": {
      "text/html": [
       "<div>\n",
       "<style scoped>\n",
       "    .dataframe tbody tr th:only-of-type {\n",
       "        vertical-align: middle;\n",
       "    }\n",
       "\n",
       "    .dataframe tbody tr th {\n",
       "        vertical-align: top;\n",
       "    }\n",
       "\n",
       "    .dataframe thead th {\n",
       "        text-align: right;\n",
       "    }\n",
       "</style>\n",
       "<table border=\"1\" class=\"dataframe\">\n",
       "  <thead>\n",
       "    <tr style=\"text-align: right;\">\n",
       "      <th></th>\n",
       "      <th>Model</th>\n",
       "      <th>Score</th>\n",
       "    </tr>\n",
       "  </thead>\n",
       "  <tbody>\n",
       "    <tr>\n",
       "      <th>4</th>\n",
       "      <td>Random Forest(str)</td>\n",
       "      <td>0.903084</td>\n",
       "    </tr>\n",
       "    <tr>\n",
       "      <th>5</th>\n",
       "      <td>Random Forest(str_grp)</td>\n",
       "      <td>0.823384</td>\n",
       "    </tr>\n",
       "    <tr>\n",
       "      <th>2</th>\n",
       "      <td>Decision Tree(str)</td>\n",
       "      <td>0.767775</td>\n",
       "    </tr>\n",
       "    <tr>\n",
       "      <th>3</th>\n",
       "      <td>Decision Tree(str_grp)</td>\n",
       "      <td>0.701510</td>\n",
       "    </tr>\n",
       "    <tr>\n",
       "      <th>0</th>\n",
       "      <td>Linear Regression(str)</td>\n",
       "      <td>0.611312</td>\n",
       "    </tr>\n",
       "    <tr>\n",
       "      <th>1</th>\n",
       "      <td>Linear Regression(str_grp)</td>\n",
       "      <td>0.510434</td>\n",
       "    </tr>\n",
       "  </tbody>\n",
       "</table>\n",
       "</div>"
      ],
      "text/plain": [
       "                        Model     Score\n",
       "4          Random Forest(str)  0.903084\n",
       "5      Random Forest(str_grp)  0.823384\n",
       "2          Decision Tree(str)  0.767775\n",
       "3      Decision Tree(str_grp)  0.701510\n",
       "0      Linear Regression(str)  0.611312\n",
       "1  Linear Regression(str_grp)  0.510434"
      ]
     },
     "execution_count": 64,
     "metadata": {},
     "output_type": "execute_result"
    }
   ],
   "source": [
    "# 각각의 분석 모델을 dataframe으로 만들고 최적의 모델 확인하기\n",
    "models = pd.DataFrame({\n",
    "    'Model' : ['Linear Regression(str)', 'Linear Regression(str_grp)', \n",
    "               'Decision Tree(str)', 'Decision Tree(str_grp)', \n",
    "               'Random Forest(str)','Random Forest(str_grp)'],\n",
    "    'Score' : [lr1.score(X1_test, y1_test), \n",
    "               lr2.score(X2_test, y2_test),\n",
    "               dtr1.score(X1_test, y1_test),\n",
    "               dtr2.score(X2_test, y2_test),\n",
    "               rfr1.score(X1_test, y1_test),\n",
    "               rfr2.score(X2_test, y2_test),\n",
    "              ]\n",
    "})\n",
    "models.sort_values(by = 'Score', ascending = False)"
   ]
  },
  {
   "cell_type": "code",
   "execution_count": 65,
   "id": "df25cfcf",
   "metadata": {},
   "outputs": [
    {
     "data": {
      "image/png": "[encoded data removed]",
      "text/plain": [
       "<Figure size 1440x576 with 1 Axes>"
      ]
     },
     "metadata": {
      "needs_background": "light"
     },
     "output_type": "display_data"
    }
   ],
   "source": [
    "plt.figure(figsize = (20, 8))\n",
    "\n",
    "sns.barplot(x = 'Model', y = 'Score', data = models)\n",
    "plt.ylim(0.50, 1)\n",
    "plt.show()"
   ]
  }
 ],
 "metadata": {
  "kernelspec": {
   "display_name": "Python 3",
   "language": "python",
   "name": "python3"
  },
  "language_info": {
   "codemirror_mode": {
    "name": "ipython",
    "version": 3
   },
   "file_extension": ".py",
   "mimetype": "text/x-python",
   "name": "python",
   "nbconvert_exporter": "python",
   "pygments_lexer": "ipython3",
   "version": "3.8.2"
  }
 },
 "nbformat": 4,
 "nbformat_minor": 5
}
